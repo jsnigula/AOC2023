{
 "cells": [
  {
   "cell_type": "code",
   "execution_count": 1,
   "id": "68d5cb70-4d0a-4ee1-816b-5340ac71dc0f",
   "metadata": {},
   "outputs": [],
   "source": [
    "def read_input(fname):\n",
    "    with open(fname, 'r') as inf:\n",
    "        line = inf.readline().strip()\n",
    "        return line.split(',')"
   ]
  },
  {
   "cell_type": "code",
   "execution_count": 12,
   "id": "2b03b428-333c-4694-8f45-d877d72c2c72",
   "metadata": {},
   "outputs": [],
   "source": [
    "def hash(s):\n",
    "    hash = 0\n",
    "    for c in s:\n",
    "        hash += ord(c)\n",
    "        hash *= 17\n",
    "        hash = hash % 256\n",
    "\n",
    "    return hash"
   ]
  },
  {
   "cell_type": "code",
   "execution_count": 44,
   "id": "96421e5b-561c-4f33-9191-c9350899420d",
   "metadata": {},
   "outputs": [],
   "source": [
    "def sort_lenses(data):\n",
    "    boxes = {i:[] for i in range(0,257)}\n",
    "    for lens in data:\n",
    "        # print(lens)\n",
    "        if '=' in lens:\n",
    "            label, f = lens.split('=')\n",
    "            f = int(f)\n",
    "            boxnum = hash(label)\n",
    "            found = False\n",
    "            for i, l in enumerate(boxes[boxnum]):\n",
    "                if l[0] == label:\n",
    "                    # Replace\n",
    "                    boxes[boxnum][i] = (label, f)\n",
    "                    found = True\n",
    "                    break\n",
    "            if not found:\n",
    "                boxes[boxnum].append((label, f))\n",
    "        else:\n",
    "            label = lens[:-1]\n",
    "            boxnum = hash(label)\n",
    "            for i, l in enumerate(boxes[boxnum]):\n",
    "                if l[0] == label:\n",
    "                    # Remove\n",
    "                    boxes[boxnum].remove(l)\n",
    "                    found = True\n",
    "                    break\n",
    "        # print(boxes)\n",
    "    return boxes\n",
    "            "
   ]
  },
  {
   "cell_type": "code",
   "execution_count": 51,
   "id": "f085cf7b-e43e-4c3e-a693-6a31f74bde09",
   "metadata": {},
   "outputs": [],
   "source": [
    "def calc_focuspower(boxes):\n",
    "    fp = 0\n",
    "    for k, lenses in boxes.items():\n",
    "        for i, lens in enumerate(lenses):\n",
    "            # print(k+1, i+1, lens)\n",
    "            v = (k+1) * (i+1) * lens[1]\n",
    "            # print(v)\n",
    "            fp += v\n",
    "\n",
    "    return fp"
   ]
  },
  {
   "cell_type": "code",
   "execution_count": 52,
   "id": "42562764-be0f-4ead-97bf-bd07289ac2c1",
   "metadata": {},
   "outputs": [
    {
     "name": "stdout",
     "output_type": "stream",
     "text": [
      "*****\n",
      "Puzzle1\n",
      "*****\n",
      "\n",
      "Test case\n",
      "\n",
      "Sum of hashes is 1320\n",
      "\n",
      "Puzzle case\n",
      "\n",
      "Sum of hashes is 511343\n",
      "\n",
      "*****\n",
      "Puzzle2\n",
      "*****\n",
      "\n",
      "Test case\n",
      "\n",
      "Focus power is 145\n",
      "\n",
      "Puzzle case\n",
      "\n",
      "Focus power is 294474\n"
     ]
    }
   ],
   "source": [
    "print('*****\\nPuzzle1\\n*****\\n')\n",
    "\n",
    "print('Test case\\n')\n",
    "\n",
    "assert hash('HASH') == 52\n",
    "\n",
    "data = read_input('input15a.txt')\n",
    "\n",
    "sumhash = sum([hash(v) for v in data])\n",
    "    \n",
    "print(f'Sum of hashes is {sumhash}')\n",
    "\n",
    "assert sumhash == 1320\n",
    "\n",
    "print('\\nPuzzle case\\n')\n",
    "\n",
    "data = read_input('input15.txt')\n",
    "\n",
    "sumhash = sum([hash(v) for v in data])\n",
    "    \n",
    "print(f'Sum of hashes is {sumhash}')\n",
    "\n",
    "assert sumhash == 511343\n",
    "\n",
    "print('\\n*****\\nPuzzle2\\n*****\\n')\n",
    "\n",
    "print('Test case\\n')\n",
    "\n",
    "data = read_input('input15a.txt')\n",
    "\n",
    "fp = calc_focuspower(sort_lenses(data))\n",
    "\n",
    "print(f'Focus power is {fp}')\n",
    "\n",
    "assert fp == 145\n",
    "\n",
    "print('\\nPuzzle case\\n')\n",
    "\n",
    "data = read_input('input15.txt')\n",
    "\n",
    "fp = calc_focuspower(sort_lenses(data))\n",
    "\n",
    "print(f'Focus power is {fp}')\n",
    "\n",
    "assert fp = 294474\n"
   ]
  }
 ],
 "metadata": {
  "kernelspec": {
   "display_name": "Python 3 (ipykernel)",
   "language": "python",
   "name": "python3"
  },
  "language_info": {
   "codemirror_mode": {
    "name": "ipython",
    "version": 3
   },
   "file_extension": ".py",
   "mimetype": "text/x-python",
   "name": "python",
   "nbconvert_exporter": "python",
   "pygments_lexer": "ipython3",
   "version": "3.10.4"
  }
 },
 "nbformat": 4,
 "nbformat_minor": 5
}
