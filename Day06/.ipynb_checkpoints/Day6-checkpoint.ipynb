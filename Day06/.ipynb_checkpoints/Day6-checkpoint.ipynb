{
 "cells": [
  {
   "cell_type": "code",
   "execution_count": 25,
   "id": "5a3e71c6",
   "metadata": {},
   "outputs": [],
   "source": [
    "import numpy as np\n",
    "import math"
   ]
  },
  {
   "cell_type": "code",
   "execution_count": 3,
   "id": "53b2eb60",
   "metadata": {},
   "outputs": [],
   "source": [
    "def read_input(fname):\n",
    "    with open(fname, 'r') as inf:\n",
    "        line = inf.readline().strip()\n",
    "        times = [int(t) for t in line.split()[1:]]\n",
    "        \n",
    "        line = inf.readline().strip()\n",
    "        distances = [int(d) for d in line.split()[1:]]\n",
    "            \n",
    "    return list(zip(times, distances))"
   ]
  },
  {
   "cell_type": "code",
   "execution_count": 4,
   "id": "80a8b20d",
   "metadata": {},
   "outputs": [],
   "source": [
    "def read_input_correctly(fname):\n",
    "    with open(fname, 'r') as inf:\n",
    "        line = inf.readline().strip()\n",
    "        times = [t for t in line.split()[1:]]\n",
    "        \n",
    "        line = inf.readline().strip()\n",
    "        distances = [d for d in line.split()[1:]]\n",
    "            \n",
    "    return int(''.join(times)), int(''.join(distances))"
   ]
  },
  {
   "cell_type": "code",
   "execution_count": 5,
   "id": "f8b65852",
   "metadata": {},
   "outputs": [
    {
     "name": "stdout",
     "output_type": "stream",
     "text": [
      "[(7, 9), (15, 40), (30, 200)]\n"
     ]
    }
   ],
   "source": [
    "print(read_input('input6a.txt'))"
   ]
  },
  {
   "cell_type": "code",
   "execution_count": 6,
   "id": "530f3884",
   "metadata": {},
   "outputs": [],
   "source": [
    "def distances(length):\n",
    "    return np.array([(length-t) * t for t in range(0, length+1)])"
   ]
  },
  {
   "cell_type": "code",
   "execution_count": 45,
   "id": "e43875d2",
   "metadata": {},
   "outputs": [],
   "source": [
    "def n_distances(t, d):\n",
    "    \n",
    "    test_range = [0, t]\n",
    "    t_start = -1\n",
    "    found = -1\n",
    "    while found < 0:\n",
    "        t_test = test_range[0] + int((test_range[1]-test_range[0]) / 2)\n",
    "        dist = (t-t_test) * t_test\n",
    "        if dist <= d:\n",
    "            if (t-(t_test+1)) * (t_test+1) > d:\n",
    "                found = t_test+1\n",
    "            test_range = [t_test, test_range[1]]\n",
    "        else:\n",
    "            if (t-(t_test-1)) * (t_test-1) < d:\n",
    "                found = t_test\n",
    "            test_range = [test_range[0], t_test]\n",
    "            \n",
    "    return t+1 - 2 * found "
   ]
  },
  {
   "cell_type": "code",
   "execution_count": 87,
   "id": "609e49ad",
   "metadata": {},
   "outputs": [],
   "source": [
    "def n_distances_calc(t, d):\n",
    "    v = math.ceil((-t + math.sqrt(t*t-4*(d+0.1))) / -2)\n",
    "    return t+1 - 2 * v"
   ]
  },
  {
   "cell_type": "code",
   "execution_count": 88,
   "id": "705e6c43",
   "metadata": {},
   "outputs": [
    {
     "name": "stdout",
     "output_type": "stream",
     "text": [
      "*****\n",
      "Puzzle1 (brute force)\n",
      "*****\n",
      "\n",
      "Test case\n",
      "\n",
      "Result 288\n",
      "\n",
      "Puzzle case\n",
      "\n",
      "Result 1108800\n",
      "\n",
      "*****\n",
      "Puzzle2 (bisection)\n",
      "*****\n",
      "\n",
      "Test case\n",
      "\n",
      "14\n",
      "N ways 71503\n",
      "Puzzle case\n",
      "\n",
      "4968915\n",
      "N ways 36919753\n"
     ]
    }
   ],
   "source": [
    "print('*****\\nPuzzle1 (brute force)\\n*****\\n')\n",
    "\n",
    "print('Test case\\n')\n",
    "\n",
    "data = read_input('input6a.txt')\n",
    "\n",
    "res = 1\n",
    "for l, d in data:\n",
    "    res *= len(np.where(distances(l) > d)[0]) \n",
    "\n",
    "print(f'Result {res}')\n",
    "\n",
    "assert res == 288\n",
    "\n",
    "print('\\nPuzzle case\\n')\n",
    "\n",
    "data = read_input('input6.txt')\n",
    "\n",
    "res = 1\n",
    "for l, d in data:\n",
    "    res *= len(np.where(distances(l) > d)[0]) \n",
    "\n",
    "print(f'Result {res}')\n",
    "\n",
    "assert res == 1108800\n",
    "\n",
    "print('\\n*****\\nPuzzle2 (bisection)\\n*****\\n')\n",
    "\n",
    "print('Test case\\n')\n",
    "\n",
    "time, dist = read_input_correctly('input6a.txt')\n",
    "\n",
    "res = n_distances(time, dist)\n",
    "\n",
    "print(f'N ways {res}')\n",
    "\n",
    "assert res == 71503\n",
    "\n",
    "print('Puzzle case\\n')\n",
    "\n",
    "time, dist = read_input_correctly('input6.txt')\n",
    "\n",
    "res = n_distances(time, dist)\n",
    "\n",
    "print(f'N ways {res}')\n",
    "\n",
    "assert res == 36919753\n"
   ]
  },
  {
   "cell_type": "code",
   "execution_count": 89,
   "id": "d2930371",
   "metadata": {},
   "outputs": [
    {
     "name": "stdout",
     "output_type": "stream",
     "text": [
      "Solution using just calculation\n",
      "*****\n",
      "Puzzle1 calculated\n",
      "*****\n",
      "\n",
      "Test case\n",
      "\n",
      "Result 288\n",
      "\n",
      "Puzzle case\n",
      "\n",
      "Result 1108800\n",
      "\n",
      "*****\n",
      "Puzzle2 calculated\n",
      "*****\n",
      "\n",
      "Test case\n",
      "\n",
      "N ways 71503\n",
      "Puzzle case\n",
      "\n",
      "N ways 36919753\n"
     ]
    }
   ],
   "source": [
    "print('Solution using just calculation')\n",
    "\n",
    "print('*****\\nPuzzle1 calculated\\n*****\\n')\n",
    "\n",
    "print('Test case\\n')\n",
    "\n",
    "data = read_input('input6a.txt')\n",
    "\n",
    "res = 1\n",
    "for t, d in data:\n",
    "    res *= n_distances_calc(t, d)\n",
    "\n",
    "print(f'Result {res}')\n",
    "\n",
    "assert res == 288\n",
    "\n",
    "print('\\nPuzzle case\\n')\n",
    "\n",
    "data = read_input('input6.txt')\n",
    "\n",
    "res = 1\n",
    "for t, d in data:\n",
    "    res *= n_distances_calc(t, d)\n",
    "\n",
    "print(f'Result {res}')\n",
    "\n",
    "assert res == 1108800\n",
    "\n",
    "print('\\n*****\\nPuzzle2 calculated\\n*****\\n')\n",
    "\n",
    "print('Test case\\n')\n",
    "\n",
    "time, dist = read_input_correctly('input6a.txt')\n",
    "\n",
    "res = n_distances_calc(time, dist)\n",
    "\n",
    "print(f'N ways {res}')\n",
    "\n",
    "assert res == 71503\n",
    "\n",
    "print('Puzzle case\\n')\n",
    "\n",
    "time, dist = read_input_correctly('input6.txt')\n",
    "\n",
    "res = n_distances_calc(time, dist)\n",
    "\n",
    "print(f'N ways {res}')\n",
    "\n",
    "assert res == 36919753\n"
   ]
  }
 ],
 "metadata": {
  "kernelspec": {
   "display_name": "Python 3 (ipykernel)",
   "language": "python",
   "name": "python3"
  },
  "language_info": {
   "codemirror_mode": {
    "name": "ipython",
    "version": 3
   },
   "file_extension": ".py",
   "mimetype": "text/x-python",
   "name": "python",
   "nbconvert_exporter": "python",
   "pygments_lexer": "ipython3",
   "version": "3.10.4"
  }
 },
 "nbformat": 4,
 "nbformat_minor": 5
}
