{
 "cells": [
  {
   "cell_type": "code",
   "execution_count": 1,
   "id": "c0dafa07",
   "metadata": {},
   "outputs": [],
   "source": [
    "def read_data(fname):\n",
    "    with open(fname, 'r') as inf:\n",
    "        data = [l.strip() for l in inf]\n",
    "    return data"
   ]
  },
  {
   "cell_type": "code",
   "execution_count": 17,
   "id": "96264673",
   "metadata": {},
   "outputs": [],
   "source": [
    "digits = ['1', '2', '3', '4', '5', '6', '7', '8', '9']\n",
    "\n",
    "class Done(Exception):\n",
    "    pass"
   ]
  },
  {
   "cell_type": "code",
   "execution_count": 10,
   "id": "95990189",
   "metadata": {},
   "outputs": [],
   "source": [
    "def get_calibration_values(data):\n",
    "    c_vals = []\n",
    "    for line in data:        \n",
    "        if line == '':\n",
    "            continue\n",
    "        val = ''\n",
    "        for c in line:\n",
    "            if c in digits:\n",
    "                val += c\n",
    "                break\n",
    "        for c in line[::-1]:\n",
    "            if c in digits:\n",
    "                val += c\n",
    "                break\n",
    "        c_vals.append(int(val))\n",
    "    return c_vals"
   ]
  },
  {
   "cell_type": "code",
   "execution_count": 18,
   "id": "11876dbe",
   "metadata": {},
   "outputs": [],
   "source": [
    "def get_calibration_values_ext(data):\n",
    "    numbers = {'one': '1', 'two': '2', 'three': '3', 'four': '4', \n",
    "               'five': '5', 'six': '6', 'seven': '7', 'eight': '8', 'nine': '9',\n",
    "               '1': '1', '2': '2', '3': '3', '4': '4', '5': '5', '6': '6', '7': '7', '8': '8', '9': '9'}\n",
    "    pattern = r'|'.join(numbers.keys())\n",
    "    c_vals = []\n",
    "    for line in data:        \n",
    "        if line == '':\n",
    "            continue\n",
    "        val = ''\n",
    "        try:\n",
    "            for i in range(0, len(line)):\n",
    "                for k in numbers.keys():\n",
    "                    if line[i:].startswith(k):\n",
    "                        val += numbers[k]\n",
    "                        raise Done\n",
    "        except Done:\n",
    "            pass\n",
    "        try:\n",
    "            for i in range(0, len(line)):\n",
    "                for k in numbers.keys():\n",
    "                    if line[::-1][i].startswith(k[::-1]):\n",
    "                        val += numbers[k]\n",
    "                        raise Done\n",
    "        except Done:\n",
    "            pass\n",
    "        print(line, val)\n",
    "        c_vals.append(int(val))\n",
    "\n",
    "    return c_vals"
   ]
  },
  {
   "cell_type": "code",
   "execution_count": 19,
   "id": "7c75a552",
   "metadata": {},
   "outputs": [
    {
     "name": "stdout",
     "output_type": "stream",
     "text": [
      "Test case\n",
      "\n",
      "Calibration value 142\n",
      "Puzzle case\n",
      "\n",
      "Calibration value 54644\n",
      "\n",
      "****\n",
      "Second puzzle\n",
      "****\n",
      "\n",
      "Test case\n",
      "two1nine 21\n",
      "eightwothree 8\n",
      "abcone2threexyz 12\n",
      "xtwone3four 23\n",
      "4nineeightseven2 42\n",
      "zoneight234 14\n",
      "7pqrstsixteen 77\n",
      "Calibration value 197\n"
     ]
    },
    {
     "ename": "AssertionError",
     "evalue": "",
     "output_type": "error",
     "traceback": [
      "\u001b[0;31m---------------------------------------------------------------------------\u001b[0m",
      "\u001b[0;31mAssertionError\u001b[0m                            Traceback (most recent call last)",
      "Input \u001b[0;32mIn [19]\u001b[0m, in \u001b[0;36m<cell line: 28>\u001b[0;34m()\u001b[0m\n\u001b[1;32m     25\u001b[0m res \u001b[38;5;241m=\u001b[39m \u001b[38;5;28msum\u001b[39m(vals)\n\u001b[1;32m     26\u001b[0m \u001b[38;5;28mprint\u001b[39m(\u001b[38;5;124mf\u001b[39m\u001b[38;5;124m'\u001b[39m\u001b[38;5;124mCalibration value \u001b[39m\u001b[38;5;132;01m{\u001b[39;00mres\u001b[38;5;132;01m}\u001b[39;00m\u001b[38;5;124m'\u001b[39m)\n\u001b[0;32m---> 28\u001b[0m \u001b[38;5;28;01massert\u001b[39;00m res \u001b[38;5;241m==\u001b[39m \u001b[38;5;241m281\u001b[39m\n\u001b[1;32m     30\u001b[0m \u001b[38;5;28mprint\u001b[39m(\u001b[38;5;124m'\u001b[39m\u001b[38;5;124mPuzzle case\u001b[39m\u001b[38;5;130;01m\\n\u001b[39;00m\u001b[38;5;124m'\u001b[39m)\n\u001b[1;32m     32\u001b[0m d \u001b[38;5;241m=\u001b[39m read_data(\u001b[38;5;124m'\u001b[39m\u001b[38;5;124minput2.txt\u001b[39m\u001b[38;5;124m'\u001b[39m)\n",
      "\u001b[0;31mAssertionError\u001b[0m: "
     ]
    }
   ],
   "source": [
    "print('Test case\\n')\n",
    "\n",
    "d = read_data('input1a.txt')\n",
    "vals = get_calibration_values(d)\n",
    "res = sum(vals)\n",
    "print(f'Calibration value {res}')\n",
    "\n",
    "assert res == 142\n",
    "\n",
    "print('Puzzle case\\n')\n",
    "\n",
    "d = read_data('input1.txt')\n",
    "vals = get_calibration_values(d)\n",
    "res = sum(vals)\n",
    "print(f'Calibration value {res}')\n",
    "\n",
    "assert res == 54644\n",
    "\n",
    "print('\\n****\\nSecond puzzle\\n****\\n')\n",
    "\n",
    "print('Test case')\n",
    "\n",
    "d = read_data('input1b.txt')\n",
    "vals = get_calibration_values_ext(d)\n",
    "res = sum(vals)\n",
    "print(f'Calibration value {res}')\n",
    "\n",
    "assert res == 281\n",
    "\n",
    "print('Puzzle case\\n')\n",
    "\n",
    "d = read_data('input2.txt')\n",
    "vals = get_calibration_values_ext(d)\n",
    "res = sum(vals)\n",
    "print(f'Calibration value {res}')\n"
   ]
  },
  {
   "cell_type": "code",
   "execution_count": null,
   "id": "5261c512",
   "metadata": {},
   "outputs": [],
   "source": []
  }
 ],
 "metadata": {
  "kernelspec": {
   "display_name": "Python 3 (ipykernel)",
   "language": "python",
   "name": "python3"
  },
  "language_info": {
   "codemirror_mode": {
    "name": "ipython",
    "version": 3
   },
   "file_extension": ".py",
   "mimetype": "text/x-python",
   "name": "python",
   "nbconvert_exporter": "python",
   "pygments_lexer": "ipython3",
   "version": "3.10.4"
  }
 },
 "nbformat": 4,
 "nbformat_minor": 5
}
