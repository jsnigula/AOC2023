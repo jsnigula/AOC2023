{
 "cells": [
  {
   "cell_type": "code",
   "execution_count": 1,
   "id": "ec4ca0da",
   "metadata": {},
   "outputs": [],
   "source": [
    "import re"
   ]
  },
  {
   "cell_type": "code",
   "execution_count": 2,
   "id": "c0dafa07",
   "metadata": {},
   "outputs": [],
   "source": [
    "def read_data(fname):\n",
    "    with open(fname, 'r') as inf:\n",
    "        data = [l.strip() for l in inf]\n",
    "    return data"
   ]
  },
  {
   "cell_type": "code",
   "execution_count": 3,
   "id": "95990189",
   "metadata": {},
   "outputs": [],
   "source": [
    "def get_calibration_values(data):\n",
    "    c_vals = []\n",
    "    for line in data:        \n",
    "        if line == '':\n",
    "            continue\n",
    "        match = re.findall(r'\\d', line)\n",
    "        c_vals.append(int(match[0]+match[-1]))\n",
    "    return c_vals"
   ]
  },
  {
   "cell_type": "code",
   "execution_count": 4,
   "id": "11876dbe",
   "metadata": {},
   "outputs": [],
   "source": [
    "def get_calibration_values_ext(data):\n",
    "    numbers = {'one': '1', 'two': '2', 'three': '3', 'four': '4', \n",
    "               'five': '5', 'six': '6', 'seven': '7', 'eight': '8', 'nine': '9',\n",
    "               '1': '1', '2': '2', '3': '3', '4': '4', '5': '5', '6': '6', '7': '7', '8': '8', '9': '9'}\n",
    "    pattern = r'|'.join(numbers.keys())\n",
    "    c_vals = []\n",
    "    for line in data:        \n",
    "        if line == '':\n",
    "            continue\n",
    "        match = re.search(pattern, line)[0]\n",
    "        rmatch = re.findall(pattern[::-1], line[::-1])[0][::-1]\n",
    "        c_vals.append(int(numbers[match]+numbers[rmatch]))\n",
    "    return c_vals\n",
    "               "
   ]
  },
  {
   "cell_type": "code",
   "execution_count": 6,
   "id": "7c75a552",
   "metadata": {},
   "outputs": [
    {
     "name": "stdout",
     "output_type": "stream",
     "text": [
      "Test case\n",
      "\n",
      "Calibration value 142\n",
      "Puzzle case\n",
      "\n",
      "Calibration value 54644\n",
      "\n",
      "****\n",
      "Second puzzle\n",
      "****\n",
      "\n",
      "Test case\n",
      "Calibration value 281\n",
      "Puzzle case\n",
      "\n",
      "Calibration value 53348\n"
     ]
    }
   ],
   "source": [
    "print('Test case\\n')\n",
    "\n",
    "d = read_data('input1a.txt')\n",
    "vals = get_calibration_values(d)\n",
    "res = sum(vals)\n",
    "print(f'Calibration value {res}')\n",
    "\n",
    "assert res == 142\n",
    "\n",
    "print('Puzzle case\\n')\n",
    "\n",
    "d = read_data('input1.txt')\n",
    "vals = get_calibration_values(d)\n",
    "res = sum(vals)\n",
    "print(f'Calibration value {res}')\n",
    "\n",
    "assert res == 54644\n",
    "\n",
    "print('\\n****\\nSecond puzzle\\n****\\n')\n",
    "\n",
    "print('Test case')\n",
    "\n",
    "d = read_data('input1b.txt')\n",
    "vals = get_calibration_values_ext(d)\n",
    "res = sum(vals)\n",
    "print(f'Calibration value {res}')\n",
    "\n",
    "assert res == 281\n",
    "\n",
    "print('Puzzle case\\n')\n",
    "\n",
    "d = read_data('input1.txt')\n",
    "vals = get_calibration_values_ext(d)\n",
    "res = sum(vals)\n",
    "print(f'Calibration value {res}')\n"
   ]
  },
  {
   "cell_type": "code",
   "execution_count": null,
   "id": "527cc583-11f8-4c57-b498-7eee844f75ac",
   "metadata": {},
   "outputs": [],
   "source": []
  }
 ],
 "metadata": {
  "kernelspec": {
   "display_name": "Python 3 (ipykernel)",
   "language": "python",
   "name": "python3"
  },
  "language_info": {
   "codemirror_mode": {
    "name": "ipython",
    "version": 3
   },
   "file_extension": ".py",
   "mimetype": "text/x-python",
   "name": "python",
   "nbconvert_exporter": "python",
   "pygments_lexer": "ipython3",
   "version": "3.11.4"
  }
 },
 "nbformat": 4,
 "nbformat_minor": 5
}
