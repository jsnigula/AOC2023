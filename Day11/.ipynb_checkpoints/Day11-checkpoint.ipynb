{
 "cells": [
  {
   "cell_type": "code",
   "execution_count": 29,
   "id": "60e2742b",
   "metadata": {},
   "outputs": [],
   "source": [
    "import re\n",
    "import numpy as np"
   ]
  },
  {
   "cell_type": "code",
   "execution_count": 8,
   "id": "59c45528",
   "metadata": {},
   "outputs": [],
   "source": [
    "def read_input(fname):\n",
    "    data = []\n",
    "    with open(fname, 'r') as inf:\n",
    "        for line in inf.readlines():\n",
    "            if line.strip() == '':\n",
    "                continue\n",
    "            data.append(line.strip())\n",
    "            \n",
    "    return data"
   ]
  },
  {
   "cell_type": "code",
   "execution_count": 57,
   "id": "db8716fe",
   "metadata": {},
   "outputs": [],
   "source": [
    "def find_galaxies(data, exp=2):\n",
    "    g_y = []\n",
    "    g_x = []\n",
    "    py = 0\n",
    "    for line in data:\n",
    "        if '#' not in line:\n",
    "            # Expand in y\n",
    "            py += exp\n",
    "            continue\n",
    "        for x in [m.start() for m in re.finditer('#', line)]:\n",
    "            g_x.append(x)\n",
    "            g_y.append(py)\n",
    "        py += 1\n",
    "        \n",
    "    a_gx = np.array(g_x)\n",
    "    a_gy = np.array(g_y)\n",
    "    for i in range(max(g_x), -1, -1):\n",
    "        if i not in g_x:\n",
    "            # print(i)\n",
    "            a_gx[np.where(a_gx > i)] += exp-1\n",
    "    return a_gy, a_gx\n",
    "        \n",
    "                 \n",
    "        "
   ]
  },
  {
   "cell_type": "code",
   "execution_count": 65,
   "id": "d0f7fe57",
   "metadata": {},
   "outputs": [],
   "source": [
    "def find_distances(data, exp=2):\n",
    "    gy, gx = find_galaxies(data, exp)\n",
    "    dists = 0\n",
    "    for i in range(0, len(gy)): \n",
    "    \n",
    "        for j in range(i+1, len(gy)):\n",
    "            d = abs(gy[j] - gy[i]) + abs(gx[j]-gx[i])\n",
    "            dists += d\n",
    "        \n",
    "    return dists\n",
    "    "
   ]
  },
  {
   "cell_type": "code",
   "execution_count": 63,
   "id": "56379be7",
   "metadata": {},
   "outputs": [],
   "source": [
    "data=read_input('input11.txt')"
   ]
  },
  {
   "cell_type": "code",
   "execution_count": 68,
   "id": "4df63cc4",
   "metadata": {},
   "outputs": [
    {
     "name": "stdout",
     "output_type": "stream",
     "text": [
      "*****\n",
      "Puzzle1\n",
      "*****\n",
      "\n",
      "Test case\n",
      "\n",
      "Sum of distances is 374\n",
      "\n",
      "Puzzle case\n",
      "\n",
      "Sum of distances is 9536038\n",
      "\n",
      "*****\n",
      "Puzzle2\n",
      "*****\n",
      "\n",
      "Test case\n",
      "\n",
      "Sum of distances with factor 10 is 1030\n",
      "Sum of distances with factor 10 is 8410\n",
      "\n",
      "Puzzle case\n",
      "\n",
      "Sum of distances with factor 1000000 is 447744640566\n"
     ]
    }
   ],
   "source": [
    "print('*****\\nPuzzle1\\n*****\\n')\n",
    "\n",
    "print('Test case\\n')\n",
    "\n",
    "data = read_input('input11a.txt')\n",
    "\n",
    "dists = find_distances(data)\n",
    "\n",
    "print(f'Sum of distances is {dists}')\n",
    "\n",
    "assert dists == 374\n",
    "\n",
    "print('\\nPuzzle case\\n')\n",
    "\n",
    "data = read_input('input11.txt')\n",
    "\n",
    "dists = find_distances(data)\n",
    "\n",
    "print(f'Sum of distances is {dists}')\n",
    "\n",
    "assert dists == 9536038\n",
    "\n",
    "print('\\n*****\\nPuzzle2\\n*****\\n')\n",
    "\n",
    "print('Test case\\n')\n",
    "\n",
    "data = read_input('input11a.txt')\n",
    "\n",
    "dists = find_distances(data, 10)\n",
    "\n",
    "print(f'Sum of distances with factor 10 is {dists}')\n",
    "\n",
    "assert dists == 1030\n",
    "\n",
    "dists = find_distances(data, 100)\n",
    "\n",
    "print(f'Sum of distances with factor 10 is {dists}')\n",
    "\n",
    "assert dists == 8410\n",
    "\n",
    "print('\\nPuzzle case\\n')\n",
    "\n",
    "data = read_input('input11.txt')\n",
    "\n",
    "dists = find_distances(data, 1000000)\n",
    "\n",
    "print(f'Sum of distances with factor 1000000 is {dists}')\n",
    "\n",
    "assert dists == 447744640566"
   ]
  }
 ],
 "metadata": {
  "kernelspec": {
   "display_name": "Python 3 (ipykernel)",
   "language": "python",
   "name": "python3"
  },
  "language_info": {
   "codemirror_mode": {
    "name": "ipython",
    "version": 3
   },
   "file_extension": ".py",
   "mimetype": "text/x-python",
   "name": "python",
   "nbconvert_exporter": "python",
   "pygments_lexer": "ipython3",
   "version": "3.10.4"
  }
 },
 "nbformat": 4,
 "nbformat_minor": 5
}
