{
 "cells": [
  {
   "cell_type": "code",
   "execution_count": 1,
   "id": "93138b30",
   "metadata": {},
   "outputs": [],
   "source": [
    "import re\n",
    "from collections import defaultdict"
   ]
  },
  {
   "cell_type": "code",
   "execution_count": 2,
   "id": "a87dbb24",
   "metadata": {},
   "outputs": [],
   "source": [
    "def read_input(fname):\n",
    "    data = {}\n",
    "    with open(fname, 'r') as inf:\n",
    "        for line in inf.readlines():\n",
    "            if line.strip() == '':\n",
    "                continue\n",
    "            match = re.match(r'Game (\\d+): .*', line)\n",
    "            gamenum = int(match.groups()[0])\n",
    "            data[gamenum] = {}\n",
    "            \n",
    "            for c in ['red', 'blue', 'green']:\n",
    "                match = re.findall(f'(\\d+) {c}', line)\n",
    "                data[gamenum][c] = [int(v) for v in match]\n",
    "                             \n",
    "    return data"
   ]
  },
  {
   "cell_type": "code",
   "execution_count": 3,
   "id": "c4dea27b",
   "metadata": {},
   "outputs": [],
   "source": [
    "def game_possible(nred, ngreen, nblue, data):\n",
    "    sum_games = 0\n",
    "    for gamenum, gamedata in data.items():\n",
    "        if max(gamedata['red']) > nred:\n",
    "            continue\n",
    "        if max(gamedata['green']) > ngreen:\n",
    "            continue\n",
    "        if max(gamedata['blue']) > nblue:\n",
    "            continue\n",
    "        sum_games += gamenum\n",
    "            \n",
    "    return sum_games"
   ]
  },
  {
   "cell_type": "code",
   "execution_count": 4,
   "id": "056f420d",
   "metadata": {},
   "outputs": [],
   "source": [
    "def game_power(data):\n",
    "    sum_power = 0\n",
    "    for gamenum, gamedata in data.items():\n",
    "        power = max(gamedata['red']) * max(gamedata['green']) * max(gamedata['blue'])\n",
    "        sum_power += power\n",
    "\n",
    "    return sum_power"
   ]
  },
  {
   "cell_type": "code",
   "execution_count": 5,
   "id": "585a501f",
   "metadata": {},
   "outputs": [
    {
     "name": "stdout",
     "output_type": "stream",
     "text": [
      "*****\n",
      "Puzzle1\n",
      "*****\n",
      "\n",
      "Test case\n",
      "\n",
      "Sum of IDs 8\n",
      "\n",
      "Puzzle case\n",
      "\n",
      "Sum of IDs 2149\n",
      "\n",
      "*****\n",
      "Puzzle2\n",
      "*****\n",
      "\n",
      "Test case\n",
      "\n",
      "Sum of Powers 2286\n",
      "\n",
      "Puzzle case\n",
      "\n",
      "Sum of Powers 71274\n"
     ]
    }
   ],
   "source": [
    "print('*****\\nPuzzle1\\n*****\\n')\n",
    "\n",
    "print('Test case\\n')\n",
    "\n",
    "data = read_input('input2a.txt')\n",
    "sum_id = game_possible(12, 13, 14, data)\n",
    "\n",
    "print(f'Sum of IDs {sum_id}')\n",
    "\n",
    "assert sum_id == 8\n",
    "\n",
    "print('\\nPuzzle case\\n')\n",
    "\n",
    "data = read_input('input2.txt')\n",
    "sum_id = game_possible(12, 13, 14, data)\n",
    "\n",
    "print(f'Sum of IDs {sum_id}')\n",
    "\n",
    "assert sum_id == 2149\n",
    "\n",
    "print('\\n*****\\nPuzzle2\\n*****\\n')\n",
    "\n",
    "print('Test case\\n')\n",
    "\n",
    "data = read_input('input2a.txt')\n",
    "sum_power = game_power(data)\n",
    "\n",
    "print(f'Sum of Powers {sum_power}')\n",
    "\n",
    "assert sum_power == 2286\n",
    "\n",
    "print('\\nPuzzle case\\n')\n",
    "\n",
    "data = read_input('input2.txt')\n",
    "sum_power = game_power(data)\n",
    "\n",
    "print(f'Sum of Powers {sum_power}')\n",
    "\n",
    "assert sum_power == 71274\n"
   ]
  },
  {
   "cell_type": "code",
   "execution_count": null,
   "id": "3ed177a8",
   "metadata": {},
   "outputs": [],
   "source": []
  }
 ],
 "metadata": {
  "kernelspec": {
   "display_name": "Python 3 (ipykernel)",
   "language": "python",
   "name": "python3"
  },
  "language_info": {
   "codemirror_mode": {
    "name": "ipython",
    "version": 3
   },
   "file_extension": ".py",
   "mimetype": "text/x-python",
   "name": "python",
   "nbconvert_exporter": "python",
   "pygments_lexer": "ipython3",
   "version": "3.11.4"
  }
 },
 "nbformat": 4,
 "nbformat_minor": 5
}
