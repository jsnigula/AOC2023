{
 "cells": [
  {
   "cell_type": "code",
   "execution_count": 1,
   "id": "999b6614",
   "metadata": {},
   "outputs": [],
   "source": [
    "def read_input(fname):\n",
    "    data = {}\n",
    "    with open(fname, 'r') as inf:\n",
    "        for line in inf.readlines():\n",
    "            if line.strip() == '':\n",
    "                continue\n",
    "            card, numbers = line.split(':')\n",
    "            cardnum = int(card.split()[1])\n",
    "            winning, having = numbers.split('|')\n",
    "            data[cardnum] = ([int(i) for i in winning.strip().split()],\n",
    "                            [int(i) for i in having.strip().split()])\n",
    "        \n",
    "    return data"
   ]
  },
  {
   "cell_type": "code",
   "execution_count": 2,
   "id": "a83284fe",
   "metadata": {},
   "outputs": [],
   "source": [
    "def count_worth(data):\n",
    "    total = 0\n",
    "    for v in data.values():\n",
    "        worth = 0\n",
    "        winning, having = v\n",
    "        for v in having:\n",
    "            if v in winning:\n",
    "                if worth == 0:\n",
    "                    worth = 1\n",
    "                else:\n",
    "                    worth *= 2\n",
    "                \n",
    "        total += worth\n",
    "    return total"
   ]
  },
  {
   "cell_type": "code",
   "execution_count": 3,
   "id": "e01f9c53",
   "metadata": {},
   "outputs": [],
   "source": [
    "def count_cards(data):\n",
    "    n_cards = [1 for _ in data.keys()]\n",
    "    for num, v in data.items():\n",
    "        winning, having = v\n",
    "        n_winning = 0\n",
    "        for v in having:\n",
    "            if v in winning:\n",
    "                n_winning += 1\n",
    "        for n in range(num, min(num+n_winning, len(n_cards))):\n",
    "            n_cards[n] += n_cards[num-1]\n",
    "    return sum(n_cards)"
   ]
  },
  {
   "cell_type": "code",
   "execution_count": 4,
   "id": "5762a48d",
   "metadata": {},
   "outputs": [
    {
     "name": "stdout",
     "output_type": "stream",
     "text": [
      "*****\n",
      "Puzzle1\n",
      "*****\n",
      "\n",
      "Test case\n",
      "\n",
      "Sum of winning numbers 13\n",
      "\n",
      "Puzzle case\n",
      "\n",
      "Sum of winning numbers 27454\n",
      "\n",
      "*****\n",
      "Puzzle2\n",
      "*****\n",
      "\n",
      "Test case\n",
      "\n",
      "Number of cards 30\n",
      "\n",
      "Puzzle case\n",
      "\n",
      "Number of cards 6857330\n"
     ]
    }
   ],
   "source": [
    "print('*****\\nPuzzle1\\n*****\\n')\n",
    "\n",
    "print('Test case\\n')\n",
    "\n",
    "data = read_input('input4a.txt')\n",
    "\n",
    "total = count_worth(data)\n",
    "\n",
    "print(f'Sum of winning numbers {total}')\n",
    "\n",
    "assert total == 13\n",
    "\n",
    "print('\\nPuzzle case\\n')\n",
    "\n",
    "data = read_input('input4.txt')\n",
    "total = count_worth(data)\n",
    "\n",
    "print(f'Sum of winning numbers {total}')\n",
    "\n",
    "assert total == 27454\n",
    "\n",
    "print('\\n*****\\nPuzzle2\\n*****\\n')\n",
    "\n",
    "print('Test case\\n')\n",
    "\n",
    "data = read_input('input4a.txt')\n",
    "\n",
    "total = count_cards(data)\n",
    "\n",
    "print(f'Number of cards {total}')\n",
    "\n",
    "assert total == 30\n",
    "\n",
    "print('\\nPuzzle case\\n')\n",
    "\n",
    "data = read_input('input4.txt')\n",
    "total = count_cards(data)\n",
    "\n",
    "print(f'Number of cards {total}')\n",
    "\n",
    "assert total == 6857330\n",
    "\n"
   ]
  },
  {
   "cell_type": "code",
   "execution_count": null,
   "id": "8b65a380",
   "metadata": {},
   "outputs": [],
   "source": []
  }
 ],
 "metadata": {
  "kernelspec": {
   "display_name": "Python 3 (ipykernel)",
   "language": "python",
   "name": "python3"
  },
  "language_info": {
   "codemirror_mode": {
    "name": "ipython",
    "version": 3
   },
   "file_extension": ".py",
   "mimetype": "text/x-python",
   "name": "python",
   "nbconvert_exporter": "python",
   "pygments_lexer": "ipython3",
   "version": "3.11.4"
  }
 },
 "nbformat": 4,
 "nbformat_minor": 5
}
