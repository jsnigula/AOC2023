{
 "cells": [
  {
   "cell_type": "code",
   "execution_count": 1,
   "id": "a253b75c",
   "metadata": {},
   "outputs": [],
   "source": [
    "import numpy as np"
   ]
  },
  {
   "cell_type": "code",
   "execution_count": 2,
   "id": "29dded07",
   "metadata": {},
   "outputs": [],
   "source": [
    "def read_input(fname):\n",
    "    data = []\n",
    "    with open(fname, 'r') as inf:\n",
    "        for line in inf.readlines():\n",
    "            if line.strip() == '':\n",
    "                continue\n",
    "            data.append([int(i) for i in line.strip().split()])\n",
    "            \n",
    "    return np.array(data)"
   ]
  },
  {
   "cell_type": "code",
   "execution_count": 24,
   "id": "3e275af8",
   "metadata": {},
   "outputs": [],
   "source": [
    "def extrapolate(indata):\n",
    "    \n",
    "    nextdata = indata[:,1:] - indata[:,:-1]\n",
    "    \n",
    "    if not np.all(nextdata == 0):\n",
    "        extras = extrapolate(nextdata)\n",
    "        return nextdata[:,-1] + extras\n",
    "\n",
    "    return nextdata[:,-1]\n",
    "        "
   ]
  },
  {
   "cell_type": "code",
   "execution_count": 48,
   "id": "60c5eac4",
   "metadata": {},
   "outputs": [],
   "source": [
    "def extrapolate_front(indata):\n",
    "    \n",
    "    nextdata = indata[:,1:] - indata[:,:-1]\n",
    "    \n",
    "    if not np.all(nextdata == 0):\n",
    "        extras = extrapolate_front(nextdata)\n",
    "        return nextdata[:,0] - extras\n",
    "\n",
    "    return nextdata[:,0]\n",
    "        "
   ]
  },
  {
   "cell_type": "code",
   "execution_count": 50,
   "id": "d9691d47",
   "metadata": {},
   "outputs": [
    {
     "name": "stdout",
     "output_type": "stream",
     "text": [
      "*****\n",
      "Puzzle1\n",
      "*****\n",
      "\n",
      "Test case\n",
      "\n",
      "Sum of extrapolated values is 114\n",
      "\n",
      "Puzzle case\n",
      "\n",
      "Sum of extrapolated values is 1974232246\n",
      "\n",
      "*****\n",
      "Puzzle2\n",
      "*****\n",
      "\n",
      "Test case\n",
      "\n",
      "Sum of extrapolated values is 2\n",
      "\n",
      "Puzzle case\n",
      "\n",
      "Sum of extrapolated values is 928\n"
     ]
    }
   ],
   "source": [
    "print('*****\\nPuzzle1\\n*****\\n')\n",
    "\n",
    "print('Test case\\n')\n",
    "\n",
    "data = read_input('input9a.txt')\n",
    "\n",
    "nextvalues = data[:,-1] + extrapolate(data)\n",
    "\n",
    "res = np.sum(nextvalues)\n",
    "\n",
    "print(f'Sum of extrapolated values is {res}')\n",
    "\n",
    "assert res == 114\n",
    "\n",
    "print('\\nPuzzle case\\n')\n",
    "\n",
    "data = read_input('input9.txt')\n",
    "\n",
    "nextvalues = data[:,-1] + extrapolate(data)\n",
    "\n",
    "res = np.sum(nextvalues)\n",
    "\n",
    "print(f'Sum of extrapolated values is {res}')\n",
    "\n",
    "assert res == 1974232246\n",
    "\n",
    "print('\\n*****\\nPuzzle2\\n*****\\n')\n",
    "\n",
    "print('Test case\\n')\n",
    "\n",
    "data = read_input('input9a.txt')\n",
    "\n",
    "nextvalues = data[:,0] - extrapolate_front(data)\n",
    "\n",
    "res = np.sum(nextvalues)\n",
    "\n",
    "print(f'Sum of extrapolated values is {res}')\n",
    "\n",
    "assert res == 2\n",
    "\n",
    "print('\\nPuzzle case\\n')\n",
    "\n",
    "data = read_input('input9.txt')\n",
    "\n",
    "nextvalues = data[:,0] - extrapolate_front(data)\n",
    "\n",
    "res = np.sum(nextvalues)\n",
    "\n",
    "print(f'Sum of extrapolated values is {res}')\n",
    "\n",
    "assert res == 928\n",
    "\n"
   ]
  }
 ],
 "metadata": {
  "kernelspec": {
   "display_name": "Python 3 (ipykernel)",
   "language": "python",
   "name": "python3"
  },
  "language_info": {
   "codemirror_mode": {
    "name": "ipython",
    "version": 3
   },
   "file_extension": ".py",
   "mimetype": "text/x-python",
   "name": "python",
   "nbconvert_exporter": "python",
   "pygments_lexer": "ipython3",
   "version": "3.10.4"
  }
 },
 "nbformat": 4,
 "nbformat_minor": 5
}
